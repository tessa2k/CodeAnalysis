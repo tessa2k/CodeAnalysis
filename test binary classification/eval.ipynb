{
 "cells": [
  {
   "cell_type": "markdown",
   "metadata": {},
   "source": [
    "# Binary Classification - Evaluation\n",
    "\n",
    "* Topic: Parkinson's Disease\n",
    "* Prompt: You are a neuroscience expert specializing in ion channel and current analysis. Given the following content:\\n\\n{file_content}\\n\\n Please identify whether this content contains relevant information about {topic}. If the answer is yes, please answer Y; otherwise, answer N. DO NOT analyze."
   ]
  },
  {
   "cell_type": "code",
   "execution_count": 18,
   "metadata": {},
   "outputs": [],
   "source": [
    "# utils\n",
    "import pandas as pd\n",
    "import json\n",
    "from sklearn.metrics import accuracy_score, precision_score, recall_score, f1_score\n",
    "from sklearn.metrics import confusion_matrix, ConfusionMatrixDisplay\n",
    "import matplotlib.pyplot as plt"
   ]
  },
  {
   "cell_type": "code",
   "execution_count": 3,
   "metadata": {},
   "outputs": [],
   "source": [
    "# load results\n",
    "OUTPUT_DIR = \"binary_classification_test.json\"\n",
    "LABELS_DIR = \"binary_labels_Parkinson.csv\""
   ]
  },
  {
   "cell_type": "code",
   "execution_count": 7,
   "metadata": {},
   "outputs": [
    {
     "data": {
      "text/html": [
       "<div>\n",
       "<style scoped>\n",
       "    .dataframe tbody tr th:only-of-type {\n",
       "        vertical-align: middle;\n",
       "    }\n",
       "\n",
       "    .dataframe tbody tr th {\n",
       "        vertical-align: top;\n",
       "    }\n",
       "\n",
       "    .dataframe thead th {\n",
       "        text-align: right;\n",
       "    }\n",
       "</style>\n",
       "<table border=\"1\" class=\"dataframe\">\n",
       "  <thead>\n",
       "    <tr style=\"text-align: right;\">\n",
       "      <th></th>\n",
       "      <th>code</th>\n",
       "      <th>label</th>\n",
       "      <th>file_id</th>\n",
       "    </tr>\n",
       "  </thead>\n",
       "  <tbody>\n",
       "    <tr>\n",
       "      <th>0</th>\n",
       "      <td>64255</td>\n",
       "      <td>1</td>\n",
       "      <td>01W2ZTQFSDSKFOYYVSCJCIP3BP67N3FDEC</td>\n",
       "    </tr>\n",
       "    <tr>\n",
       "      <th>1</th>\n",
       "      <td>79465</td>\n",
       "      <td>1</td>\n",
       "      <td>01W2ZTQFTECH6N6Q62NJB2SBTMMDLJXNK7</td>\n",
       "    </tr>\n",
       "    <tr>\n",
       "      <th>2</th>\n",
       "      <td>79488</td>\n",
       "      <td>1</td>\n",
       "      <td>01W2ZTQFURO2OSVZBXLJHLDCUDBBYICD3E</td>\n",
       "    </tr>\n",
       "    <tr>\n",
       "      <th>3</th>\n",
       "      <td>83559</td>\n",
       "      <td>1</td>\n",
       "      <td>01W2ZTQFXO7GYLC4GQ4ZGJ4NCA5SPVJFMC</td>\n",
       "    </tr>\n",
       "    <tr>\n",
       "      <th>4</th>\n",
       "      <td>83560</td>\n",
       "      <td>1</td>\n",
       "      <td>01W2ZTQFUYVY66AYU6PFGLBZRLEZIUWRSR</td>\n",
       "    </tr>\n",
       "  </tbody>\n",
       "</table>\n",
       "</div>"
      ],
      "text/plain": [
       "    code  label                             file_id\n",
       "0  64255      1  01W2ZTQFSDSKFOYYVSCJCIP3BP67N3FDEC\n",
       "1  79465      1  01W2ZTQFTECH6N6Q62NJB2SBTMMDLJXNK7\n",
       "2  79488      1  01W2ZTQFURO2OSVZBXLJHLDCUDBBYICD3E\n",
       "3  83559      1  01W2ZTQFXO7GYLC4GQ4ZGJ4NCA5SPVJFMC\n",
       "4  83560      1  01W2ZTQFUYVY66AYU6PFGLBZRLEZIUWRSR"
      ]
     },
     "execution_count": 7,
     "metadata": {},
     "output_type": "execute_result"
    }
   ],
   "source": [
    "df = pd.read_csv(LABELS_DIR)\n",
    "df[\"code\"] = df[\"code\"].astype(int)\n",
    "df.head()"
   ]
  },
  {
   "cell_type": "code",
   "execution_count": 12,
   "metadata": {},
   "outputs": [
    {
     "data": {
      "text/html": [
       "<div>\n",
       "<style scoped>\n",
       "    .dataframe tbody tr th:only-of-type {\n",
       "        vertical-align: middle;\n",
       "    }\n",
       "\n",
       "    .dataframe tbody tr th {\n",
       "        vertical-align: top;\n",
       "    }\n",
       "\n",
       "    .dataframe thead th {\n",
       "        text-align: right;\n",
       "    }\n",
       "</style>\n",
       "<table border=\"1\" class=\"dataframe\">\n",
       "  <thead>\n",
       "    <tr style=\"text-align: right;\">\n",
       "      <th></th>\n",
       "      <th>code</th>\n",
       "      <th>result</th>\n",
       "    </tr>\n",
       "  </thead>\n",
       "  <tbody>\n",
       "    <tr>\n",
       "      <th>0</th>\n",
       "      <td>64255</td>\n",
       "      <td>1</td>\n",
       "    </tr>\n",
       "    <tr>\n",
       "      <th>1</th>\n",
       "      <td>266901</td>\n",
       "      <td>0</td>\n",
       "    </tr>\n",
       "    <tr>\n",
       "      <th>2</th>\n",
       "      <td>83560</td>\n",
       "      <td>1</td>\n",
       "    </tr>\n",
       "    <tr>\n",
       "      <th>3</th>\n",
       "      <td>26997</td>\n",
       "      <td>0</td>\n",
       "    </tr>\n",
       "    <tr>\n",
       "      <th>4</th>\n",
       "      <td>140828</td>\n",
       "      <td>0</td>\n",
       "    </tr>\n",
       "  </tbody>\n",
       "</table>\n",
       "</div>"
      ],
      "text/plain": [
       "     code  result\n",
       "0   64255       1\n",
       "1  266901       0\n",
       "2   83560       1\n",
       "3   26997       0\n",
       "4  140828       0"
      ]
     },
     "execution_count": 12,
     "metadata": {},
     "output_type": "execute_result"
    }
   ],
   "source": [
    "with open(OUTPUT_DIR, 'r', encoding='utf-8') as f:\n",
    "    results_json = json.load(f)\n",
    "results_df = pd.DataFrame(list(results_json.items()), columns=[\"code\", \"result\"])\n",
    "results_df[\"code\"] = results_df[\"code\"].astype(int)\n",
    "results_df[\"result\"] = results_df[\"result\"].map({\"Y\": 1, \"N\": 0})\n",
    "results_df.head()"
   ]
  },
  {
   "cell_type": "code",
   "execution_count": 13,
   "metadata": {},
   "outputs": [
    {
     "data": {
      "text/html": [
       "<div>\n",
       "<style scoped>\n",
       "    .dataframe tbody tr th:only-of-type {\n",
       "        vertical-align: middle;\n",
       "    }\n",
       "\n",
       "    .dataframe tbody tr th {\n",
       "        vertical-align: top;\n",
       "    }\n",
       "\n",
       "    .dataframe thead th {\n",
       "        text-align: right;\n",
       "    }\n",
       "</style>\n",
       "<table border=\"1\" class=\"dataframe\">\n",
       "  <thead>\n",
       "    <tr style=\"text-align: right;\">\n",
       "      <th></th>\n",
       "      <th>code</th>\n",
       "      <th>result</th>\n",
       "      <th>label</th>\n",
       "      <th>file_id</th>\n",
       "    </tr>\n",
       "  </thead>\n",
       "  <tbody>\n",
       "    <tr>\n",
       "      <th>0</th>\n",
       "      <td>64255</td>\n",
       "      <td>1</td>\n",
       "      <td>1</td>\n",
       "      <td>01W2ZTQFSDSKFOYYVSCJCIP3BP67N3FDEC</td>\n",
       "    </tr>\n",
       "    <tr>\n",
       "      <th>1</th>\n",
       "      <td>266901</td>\n",
       "      <td>0</td>\n",
       "      <td>0</td>\n",
       "      <td>01W2ZTQFTDSG36VBQAJFBJIPIZGAC6MOAN</td>\n",
       "    </tr>\n",
       "    <tr>\n",
       "      <th>2</th>\n",
       "      <td>83560</td>\n",
       "      <td>1</td>\n",
       "      <td>1</td>\n",
       "      <td>01W2ZTQFUYVY66AYU6PFGLBZRLEZIUWRSR</td>\n",
       "    </tr>\n",
       "    <tr>\n",
       "      <th>3</th>\n",
       "      <td>26997</td>\n",
       "      <td>0</td>\n",
       "      <td>0</td>\n",
       "      <td>01W2ZTQFT7UWD7GWGH2BC23MUWHWNW5M4X</td>\n",
       "    </tr>\n",
       "    <tr>\n",
       "      <th>4</th>\n",
       "      <td>140828</td>\n",
       "      <td>0</td>\n",
       "      <td>0</td>\n",
       "      <td>01W2ZTQFQGMDDWWIP755AINO4DXGISNGKG</td>\n",
       "    </tr>\n",
       "    <tr>\n",
       "      <th>...</th>\n",
       "      <td>...</td>\n",
       "      <td>...</td>\n",
       "      <td>...</td>\n",
       "      <td>...</td>\n",
       "    </tr>\n",
       "    <tr>\n",
       "      <th>90</th>\n",
       "      <td>262431</td>\n",
       "      <td>0</td>\n",
       "      <td>1</td>\n",
       "      <td>01W2ZTQFQDM2C6ORDDDFG3RVGR2NSEZ5HR</td>\n",
       "    </tr>\n",
       "    <tr>\n",
       "      <th>91</th>\n",
       "      <td>266929</td>\n",
       "      <td>0</td>\n",
       "      <td>0</td>\n",
       "      <td>01W2ZTQFTQFP4AVDWZ7NGZMBXITSRQFHZ2</td>\n",
       "    </tr>\n",
       "    <tr>\n",
       "      <th>92</th>\n",
       "      <td>227005</td>\n",
       "      <td>0</td>\n",
       "      <td>0</td>\n",
       "      <td>01W2ZTQFXFFVQQAIKZENG2OR6NZYSKPMPR</td>\n",
       "    </tr>\n",
       "    <tr>\n",
       "      <th>93</th>\n",
       "      <td>20756</td>\n",
       "      <td>0</td>\n",
       "      <td>0</td>\n",
       "      <td>01W2ZTQFVD5ZXPLCVHVRAZCNVT44Z7PDS2</td>\n",
       "    </tr>\n",
       "    <tr>\n",
       "      <th>94</th>\n",
       "      <td>169240</td>\n",
       "      <td>0</td>\n",
       "      <td>0</td>\n",
       "      <td>01W2ZTQFXHX3TQT2VNY5HL3AXFGJDQGDIO</td>\n",
       "    </tr>\n",
       "  </tbody>\n",
       "</table>\n",
       "<p>95 rows × 4 columns</p>\n",
       "</div>"
      ],
      "text/plain": [
       "      code  result  label                             file_id\n",
       "0    64255       1      1  01W2ZTQFSDSKFOYYVSCJCIP3BP67N3FDEC\n",
       "1   266901       0      0  01W2ZTQFTDSG36VBQAJFBJIPIZGAC6MOAN\n",
       "2    83560       1      1  01W2ZTQFUYVY66AYU6PFGLBZRLEZIUWRSR\n",
       "3    26997       0      0  01W2ZTQFT7UWD7GWGH2BC23MUWHWNW5M4X\n",
       "4   140828       0      0  01W2ZTQFQGMDDWWIP755AINO4DXGISNGKG\n",
       "..     ...     ...    ...                                 ...\n",
       "90  262431       0      1  01W2ZTQFQDM2C6ORDDDFG3RVGR2NSEZ5HR\n",
       "91  266929       0      0  01W2ZTQFTQFP4AVDWZ7NGZMBXITSRQFHZ2\n",
       "92  227005       0      0  01W2ZTQFXFFVQQAIKZENG2OR6NZYSKPMPR\n",
       "93   20756       0      0  01W2ZTQFVD5ZXPLCVHVRAZCNVT44Z7PDS2\n",
       "94  169240       0      0  01W2ZTQFXHX3TQT2VNY5HL3AXFGJDQGDIO\n",
       "\n",
       "[95 rows x 4 columns]"
      ]
     },
     "execution_count": 13,
     "metadata": {},
     "output_type": "execute_result"
    }
   ],
   "source": [
    "merged_df = pd.merge(results_df, df, on=\"code\", how=\"left\")\n",
    "merged_df"
   ]
  },
  {
   "cell_type": "code",
   "execution_count": 16,
   "metadata": {},
   "outputs": [
    {
     "name": "stdout",
     "output_type": "stream",
     "text": [
      "Evaluation Metrics:\n",
      "Accuracy: 0.85\n",
      "Precision: 1.00\n",
      "Recall: 0.70\n",
      "F1 Score: 0.82\n"
     ]
    }
   ],
   "source": [
    "# Calculate metrics\n",
    "accuracy = accuracy_score(merged_df[\"label\"], merged_df[\"result\"])\n",
    "precision = precision_score(merged_df[\"label\"], merged_df[\"result\"])\n",
    "recall = recall_score(merged_df[\"label\"], merged_df[\"result\"])\n",
    "f1 = f1_score(merged_df[\"label\"], merged_df[\"result\"])\n",
    "\n",
    "# Display results\n",
    "print(\"Evaluation Metrics:\")\n",
    "print(f\"Accuracy: {accuracy:.2f}\")\n",
    "print(f\"Precision: {precision:.2f}\")\n",
    "print(f\"Recall: {recall:.2f}\")\n",
    "print(f\"F1 Score: {f1:.2f}\")\n"
   ]
  },
  {
   "cell_type": "code",
   "execution_count": 19,
   "metadata": {},
   "outputs": [
    {
     "data": {
      "image/png": "[encoded data removed]",
      "text/plain": [
       "<Figure size 640x480 with 2 Axes>"
      ]
     },
     "metadata": {},
     "output_type": "display_data"
    }
   ],
   "source": [
    "# Compute confusion matrix\n",
    "cm = confusion_matrix(merged_df[\"label\"], merged_df[\"result\"], labels=[0, 1])\n",
    "\n",
    "# Plot the confusion matrix\n",
    "disp = ConfusionMatrixDisplay(confusion_matrix=cm, display_labels=[\"Negative\", \"Positive\"])\n",
    "disp.plot(cmap=plt.cm.Blues)\n",
    "plt.title(\"Confusion Matrix\")\n",
    "plt.show()"
   ]
  },
  {
   "cell_type": "code",
   "execution_count": null,
   "metadata": {},
   "outputs": [],
   "source": []
  }
 ],
 "metadata": {
  "kernelspec": {
   "display_name": "codeanalysis",
   "language": "python",
   "name": "python3"
  },
  "language_info": {
   "codemirror_mode": {
    "name": "ipython",
    "version": 3
   },
   "file_extension": ".py",
   "mimetype": "text/x-python",
   "name": "python",
   "nbconvert_exporter": "python",
   "pygments_lexer": "ipython3",
   "version": "3.10.13"
  }
 },
 "nbformat": 4,
 "nbformat_minor": 2
}
