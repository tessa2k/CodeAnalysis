{
 "cells": [
  {
   "cell_type": "markdown",
   "metadata": {
    "id": "GHO2LbqgAGdu"
   },
   "source": [
    "rule-based method"
   ]
  },
  {
   "cell_type": "code",
   "execution_count": 33,
   "metadata": {
    "colab": {
     "base_uri": "https://localhost:8080/"
    },
    "id": "k9oBrNBsUCBa",
    "outputId": "ef9c1d12-db19-4673-c790-22ffe72bf028"
   },
   "outputs": [],
   "source": [
    "import os\n",
    "from openai import OpenAI\n",
    "import os\n",
    "import zipfile\n",
    "import json\n",
    "import re\n",
    "import msal\n",
    "import requests\n",
    "from dotenv import load_dotenv"
   ]
  },
  {
   "cell_type": "code",
   "execution_count": 35,
   "metadata": {},
   "outputs": [
    {
     "name": "stdout",
     "output_type": "stream",
     "text": [
      "File Name: 100603.zip - File ID: 0153IT3SXAD2VJTPSQSBHJZPSW2Z3V7UWE\n",
      "File Name: 101629.zip - File ID: 0153IT3SQMDXPPCZU7MVCJEGVIB5HNOL65\n",
      "File Name: 102279.zip - File ID: 0153IT3STKCQUSAZDFEFB3ZQGOV23D5CCQ\n",
      "File Name: 102288.zip - File ID: 0153IT3SQ5Z6DBLC2Q5ZFYRHH6PG2V5FUD\n",
      "File Name: 102871.zip - File ID: 0153IT3SUCWBE2OAZMMNHZ27YBIIARMBQ7\n",
      "File Name: 10360.zip - File ID: 0153IT3SRCF5XUXMLTW5DJZFB2N33CR7IQ\n",
      "File Name: 104623.zip - File ID: 0153IT3SQYAAKUMXRGFNEK5JWYMTZKJLUJ\n",
      "File Name: 105383.zip - File ID: 0153IT3SR4S23XHBQROVF3L6OAI44XGDGJ\n",
      "File Name: 105385.zip - File ID: 0153IT3SVGHNI65UB6ZJFJJE2GI4J6HBFR\n",
      "File Name: 105501.zip - File ID: 0153IT3SRJ6JKY7FNYPRFKI7LCS2O5Y5G3\n",
      "File Name: 105506.zip - File ID: 0153IT3SVKXQK6MVTF4JGIGELH6AIP4SYK\n",
      "File Name: 105507.zip - File ID: 0153IT3SS7FBR5Q6E5EFBYBOXVF72IYWQV\n",
      "File Name: 105528.zip - File ID: 0153IT3SX2FAFPB3YOEZFK5F77JA5WONHI\n",
      "File Name: 106551.zip - File ID: 0153IT3STYE3LA2MX43FEYSOQJJ7KNC7YK\n",
      "File Name: 106891.zip - File ID: 0153IT3SQSATX6Y5N62VELARMORUAB2QN7\n",
      "File Name: 108458.zip - File ID: 0153IT3SX6M4DDWRRTNZFYOJKOQV42NHRN\n",
      "File Name: 108459.zip - File ID: 0153IT3SQWU6YTLJHKLFGLSA34ZZ673OPF\n",
      "File Name: 110022.zip - File ID: 0153IT3SV2LRISN4ZIMND3DKCJ5RIQFHO6\n",
      "File Name: 110023.zip - File ID: 0153IT3SR5K6OOINCSUFH3WQF4JZ2OMIBD\n",
      "File Name: 110560.zip - File ID: 0153IT3SSSUPHHRBTCBFF2YGBBHTNB53EY\n",
      "File Name: 111870.zip - File ID: 0153IT3SV5ED6M2VLVQBGYUHVKPZ5V2TCG\n",
      "File Name: 111877.zip - File ID: 0153IT3SULRXGZE4XUSVEYT7BNCC3DXNNZ\n",
      "File Name: 111880.zip - File ID: 0153IT3SVGZI4P5B3RQZEYF3CLD5HKYXZH\n",
      "File Name: 111967.zip - File ID: 0153IT3SW37OTOIC6YDVE37KDKTXS5PJUW\n",
      "File Name: 112049.zip - File ID: 0153IT3SXSYSLJXMJYHFEKEE5F7SDZZXI4\n",
      "File Name: 112071.zip - File ID: 0153IT3SRD5WOOCES2T5AI4ZSGF3CJABCH\n",
      "File Name: 112079.zip - File ID: 0153IT3SVTVZWXWOVZSRAJDVNJZRYWXS5U\n",
      "File Name: 112086.zip - File ID: 0153IT3SRGND5SPJYC4NA3B3AEBDTFVHHM\n",
      "File Name: 112348.zip - File ID: 0153IT3SSTOXNT7NQ5QRCYFGORHCF5MUGE\n",
      "File Name: 112349.zip - File ID: 0153IT3ST2I3CWN5GUONDYK7PD636WFJ3I\n",
      "File Name: 112359.zip - File ID: 0153IT3SWMF47MJQSSOBAIAYDFJYSGVNRH\n",
      "File Name: 112468.zip - File ID: 0153IT3SQ5E7EIUM6SRFCL73RVW52Q3WVR\n",
      "File Name: 112546.zip - File ID: 0153IT3STS4OROLHCPPZG33GDTDSNSQX75\n",
      "File Name: 112547.zip - File ID: 0153IT3SXLDRL4HHHCKBALVC6KIW4RLCFG\n",
      "File Name: 112633.zip - File ID: 0153IT3SUMPIO3A4PO35BK22O52ZQTX2SG\n",
      "File Name: 112685.zip - File ID: 0153IT3SQ7BBYX7IYPDJDIVWX7PPCDMRH2\n",
      "File Name: 112834.zip - File ID: 0153IT3SSEJW7O5GRE5FF2W7TW4ZMNCKHS\n",
      "File Name: 112836.zip - File ID: 0153IT3SR33IWW2MRYHNFK5GUMNDH5MRLI\n",
      "File Name: 112914.zip - File ID: 0153IT3SSN5WFVZJLWLNGZUU52LLS3QNRP\n",
      "File Name: 112915.zip - File ID: 0153IT3SS753ZBZZTB55FZIIJDRMI3M4JO\n",
      "File Name: 112922.zip - File ID: 0153IT3SSQZB5T5SPVBFFZQABSVHCXE3W5\n",
      "File Name: 112923.zip - File ID: 0153IT3SUZT4EYFT7NXNH36BINVFGBRGKR\n",
      "File Name: 112968.zip - File ID: 0153IT3STC5MFYDXMBIBHYYY2Y5LNS42AG\n",
      "File Name: 113426.zip - File ID: 0153IT3SXSKO3YCCC43NHYHRP3MBBVWEHM\n",
      "File Name: 113435.zip - File ID: 0153IT3SSEXSCWBFD27VBJDO7D6MD4EZPQ\n",
      "File Name: 113446.zip - File ID: 0153IT3SUJNY2AIVN725GK7E74E57U7RFJ\n",
      "File Name: 113459.zip - File ID: 0153IT3SV7CXZ2G3WWWFBYN2Y4TF5X4RZE\n",
      "File Name: 113649.zip - File ID: 0153IT3SXZXDYGFTT5GNE2U2GXQG5EQ5JA\n",
      "File Name: 113732.zip - File ID: 0153IT3SRIZ2XJTWRZSBHZ4EUMQW5FIUD7\n",
      "File Name: 113939.zip - File ID: 0153IT3SQ3UZUBC5H7SBFKR7GYSYZKJYO5\n",
      "File Name: 113949.zip - File ID: 0153IT3SWD2T7DMXV7TBC3ZQSSYFXZYPJ3\n",
      "File Name: 113997.zip - File ID: 0153IT3SV3H2PEWAMY3JAKGBOJJZ5QHUNI\n",
      "File Name: 114047.zip - File ID: 0153IT3STKQGYWL3Y2TJC22WVCUZU43QFZ\n",
      "File Name: 114108.zip - File ID: 0153IT3SRFNM32SYTU3BDZAY26YMALZYTG\n",
      "File Name: 114230.zip - File ID: 0153IT3SSYBINXDHZEQNDJDPZWKVWGXFZG\n",
      "File Name: 114242.zip - File ID: 0153IT3SXHBJ46TCAUOVAZOM7VG22WO2NK\n",
      "File Name: 114310.zip - File ID: 0153IT3SSWVYY4UOPB3RB2BRAV72TARBPV\n",
      "File Name: 114337.zip - File ID: 0153IT3SSEDNF2373PQVAJJRB7GU2D4UCE\n",
      "File Name: 114342.zip - File ID: 0153IT3SSEGC43RRODURCIF7IPHU4ZRLWI\n",
      "File Name: 114355.zip - File ID: 0153IT3SUDM4YCIPJPS5HIFECMI3ZE4FOD\n",
      "File Name: 114359.zip - File ID: 0153IT3SVSAKC5PECTXNHIMIR6YLGG3YUC\n",
      "File Name: 114365.zip - File ID: 0153IT3SRG3JJUL4C4G5FKPXDN47FHLXNL\n",
      "File Name: 114394.zip - File ID: 0153IT3SW3YPBT4USPJ5BYTJUNF7NAVM4S\n",
      "File Name: 114424.zip - File ID: 0153IT3SRIDWQ3GSPRSBHYNLAUJPHGDXIK\n",
      "File Name: 114450.zip - File ID: 0153IT3SXPD6ZAUVBGHBB22ART7RMCER4A\n",
      "File Name: 114451.zip - File ID: 0153IT3SUKP3HPJZLYO5GLG4UU7SC2G6FO\n",
      "File Name: 114452.zip - File ID: 0153IT3SQHHQFYSCXBIFGKN7BKQ4MBD4OM\n",
      "File Name: 114637.zip - File ID: 0153IT3ST2AWNC3UUDDJAYBCHAVRLNWIN3\n",
      "File Name: 114639.zip - File ID: 0153IT3SQWTJM2JB7B3JBI7G2F3Z73CHG5\n",
      "File Name: 114643.zip - File ID: 0153IT3SQZ3PW6KCUQGRGKRNY4OZPRRXEM\n",
      "File Name: 114652.zip - File ID: 0153IT3SRC2MAGXKSLFZELTRAYOMDAEZMZ\n",
      "File Name: 114653.zip - File ID: 0153IT3SWSI4MQMGGXSFCZIHG3L4UEEFAX\n",
      "File Name: 114654.zip - File ID: 0153IT3SQ32JLUX2NOEZHZXQHM4FSKEN47\n",
      "File Name: 114655.zip - File ID: 0153IT3SR7GPBHRHTLOFCIKLRDNFCCBCNR\n",
      "File Name: 114665.zip - File ID: 0153IT3ST2R56GTJVHYNBYVQ3X5FWINWDR\n",
      "File Name: 114685.zip - File ID: 0153IT3SRTQQTTGFDL4ND2QGBY224YBXAX\n",
      "File Name: 114735.zip - File ID: 0153IT3SV7WCLWRUYXHJCI33IEJX5GW2TQ\n",
      "File Name: 115356.zip - File ID: 0153IT3SSYFXNBDPEHF5HKDYX2YTCXYARM\n",
      "File Name: 115357.zip - File ID: 0153IT3SWSINOSYUB4HBGZR2C6VVEKLUTH\n",
      "File Name: 115435.zip - File ID: 0153IT3SQ7GN4AS5KDEBA2ZDB45E33GM6G\n",
      "File Name: 115813.zip - File ID: 0153IT3STDJKFBA6XYNFB3T37JFLMMAE6Z\n",
      "File Name: 115920.zip - File ID: 0153IT3SV5B4OJILZUXFF3RQSM4S7NPXW5\n",
      "File Name: 115966.zip - File ID: 0153IT3SUS6L77XQL4DNALH4D3WFGSYS46\n",
      "File Name: 115968.zip - File ID: 0153IT3SX5ES6TBRZOPJEZXH7OK3F3DVXL\n",
      "File Name: 116053.zip - File ID: 0153IT3SSKB2XHTMWNHVHLAPPFXJLKCH5P\n",
      "File Name: 116079.zip - File ID: 0153IT3SRDIYE6HH7HV5BIBJUMJFK6RUZU\n",
      "File Name: 116080.zip - File ID: 0153IT3SRXY2ISB7ZGFNDZJQTA3DFOD5RP\n",
      "File Name: 116081.zip - File ID: 0153IT3SWFYFRF3CP5VNGZ75Y2TM5RYKKB\n",
      "File Name: 116082.zip - File ID: 0153IT3SQPAUSCQ6NU2ZGJDNOIF4A3KFW3\n",
      "File Name: 116083.zip - File ID: 0153IT3SSX4C3P5WK2SJCZSX3L7PKPEJ5F\n",
      "File Name: 116084.zip - File ID: 0153IT3SUJVTZ2JXULQFGJHKZYZAJGGIS6\n",
      "File Name: 116086.zip - File ID: 0153IT3STQOJUFORUNRJAYSDYGYW54W4S4\n",
      "File Name: 116094.zip - File ID: 0153IT3SX35F3F4BPZGZGIC7ZBNX2OJJV5\n",
      "File Name: 116096.zip - File ID: 0153IT3SX37JVSNUYV2NDIVVQFJJP6X3LK\n",
      "File Name: 116123.zip - File ID: 0153IT3STF7YCNAP363NCKWF5RQ2OIVP5Q\n",
      "File Name: 116312.zip - File ID: 0153IT3SQFXQRQFQSKQZD2KUIZ3PPGYN5S\n",
      "File Name: 116313.zip - File ID: 0153IT3SUMJGCYEEJ7VRCYGXXKKKXGMLB7\n",
      "File Name: 116368.zip - File ID: 0153IT3SSTP5R2NBI4GRCKDA6ZETY5XJ7L\n",
      "File Name: 116386.zip - File ID: 0153IT3SWH4WWZILKMCZF3M3RCATZTYOD2\n",
      "File Name: 116491.zip - File ID: 0153IT3SUWXBOESPJ3VFFZ2E4TYBOMEGZU\n",
      "File Name: 116567.zip - File ID: 0153IT3SXTGPGZEGJUR5H257CU7OGK7FYW\n",
      "File Name: 116575.zip - File ID: 0153IT3SVLQSKSG2TTCZEZWA3CFTLNXOJ6\n",
      "File Name: 116606.zip - File ID: 0153IT3SQPILM7QN5JNZB3D34RXFMGP2L5\n",
      "File Name: 116740.zip - File ID: 0153IT3STMPNKWZ6OFURA2LQ2NUOBUGBUX\n",
      "File Name: 116769.zip - File ID: 0153IT3SSXGMG3N6RTJBE26QECLWM5R4FH\n",
      "File Name: 116806.zip - File ID: 0153IT3SS4FJFGDP7EKVH3Y2FNCH2FGAO5\n",
      "File Name: 116830.zip - File ID: 0153IT3SXEZR43J6UJUZDZEPZ6G6MAQIDJ\n",
      "File Name: 116832.zip - File ID: 0153IT3SW7W5FZNHIVKZBI7WZPGGAVPGTG\n",
      "File Name: 116835.zip - File ID: 0153IT3ST35KBTZWAE3FDKFX5W7Z5QNPPT\n",
      "File Name: 116837.zip - File ID: 0153IT3SXGL7L3YYVFKZDLYDVKG2UG4MEA\n",
      "File Name: 116838.zip - File ID: 0153IT3STN2S7FPKLW7VELHK7LXCNTFAKT\n",
      "File Name: 116859.zip - File ID: 0153IT3SRK62MPEXLJVRDYNRRFCLVF7UMY\n",
      "File Name: 116860.zip - File ID: 0153IT3SRT2X2H6UDV3JALUELS22326G5F\n",
      "File Name: 116862.zip - File ID: 0153IT3STN34EIE67PTFDIBGWZVHWUDRPQ\n",
      "File Name: 116867.zip - File ID: 0153IT3SSYYOCQFI535BG2PWWKE3ZEF4V5\n",
      "File Name: 116870.zip - File ID: 0153IT3SWBIFV5B32FKBDI24HNYUZIOIPZ\n",
      "File Name: 116871.zip - File ID: 0153IT3SREQHQUTQ4HLJF3EWCSIJAW6OYQ\n",
      "File Name: 116901.zip - File ID: 0153IT3SXFFRT6CQ2N4FGIQDNX77EU6TLK\n",
      "File Name: 116942.zip - File ID: 0153IT3SQN46C7ZLBV6VHINFAPGQVS6X35\n",
      "File Name: 116945.zip - File ID: 0153IT3SRF5PI2A4FOYVGYK3NYLY3LRWZY\n",
      "File Name: 116956.zip - File ID: 0153IT3SSHCMERAVS67VFYW5CYJKT2R42T\n",
      "File Name: 116957.zip - File ID: 0153IT3SX3HWFQN26W3VHYJ6RPSYJTYS3R\n",
      "File Name: 116981.zip - File ID: 0153IT3STDKFULT2BDMBCL6RX3GAX4XSIL\n",
      "File Name: 116983.zip - File ID: 0153IT3SWOIDPBU3K4RZEJHRJ3IKD65X5H\n",
      "File Name: 117204.zip - File ID: 0153IT3SQSMIG3PAHZQVEI2T3AV57T2253\n",
      "File Name: 117207.zip - File ID: 0153IT3SU4ZI4EAFI62FE3QR5TXPHJ7AH6\n",
      "File Name: 117330.zip - File ID: 0153IT3SXRP2FXDCNNARFKLSDV75VPOZXL\n",
      "File Name: 117351.zip - File ID: 0153IT3SRIUXAOQI5XGVBZ73LVCGIS3O7W\n",
      "File Name: 117359.zip - File ID: 0153IT3SS24UVIDUJ7NRFLYSI5NNFO5RWY\n",
      "File Name: 117361.zip - File ID: 0153IT3SXBRTHLV77T4RHIBT2A4TMUJKYA\n",
      "File Name: 117459.zip - File ID: 0153IT3SURS5UF3IHEXBAKTQP5AHP3KTTW\n",
      "File Name: 117508.zip - File ID: 0153IT3SUYDLI2S2P2FZC2XYXC2LVSE5ZW\n",
      "File Name: 117514.zip - File ID: 0153IT3SQ2O4R5NFKPFVCY5NGERMKN5VNS\n",
      "File Name: 117691.zip - File ID: 0153IT3SVBGPY5Y75FUZBL5RL3NHEMKUOE\n",
      "File Name: 117810.zip - File ID: 0153IT3STDNTQ5FE2VBVG2BB2G5JKQAH3E\n",
      "File Name: 117811.zip - File ID: 0153IT3SXLLPEW6DGVPZH2XY2NANZF7AQT\n",
      "File Name: 117966.zip - File ID: 0153IT3SX4H7XXNSXHRFHY3YAO7PGF5TG6\n",
      "File Name: 118014.zip - File ID: 0153IT3SSV3QA5XX67RVD3MJ3TNZFXOBYO\n",
      "File Name: 118020.zip - File ID: 0153IT3SXHJHRUJYOVZRBI5IHAUXTN75GW\n",
      "File Name: 118091.zip - File ID: 0153IT3SR2FWZ5DALY4RAJA3BFW6WZBAAR\n",
      "File Name: 118092.zip - File ID: 0153IT3SXFXRIVSPFRLVA2SACXLURDKVRF\n",
      "File Name: 118098.zip - File ID: 0153IT3SQUP4VMBXJGDFGJO2YS275E7BZY\n",
      "File Name: 118195.zip - File ID: 0153IT3SV5RL65KK2J5FDJHKWNRNVOXHXJ\n",
      "File Name: 118196.zip - File ID: 0153IT3SUSPS447HBLRFE3IXQH3PCTDIQY\n",
      "File Name: 118199.zip - File ID: 0153IT3SSFCLVAAMNOYJFYX3JEJNTW53DT\n",
      "File Name: 118261.zip - File ID: 0153IT3SUFQWBXTUPBSNAJ6JQ22LRUDUL6\n",
      "File Name: 118326.zip - File ID: 0153IT3STOTO67HRCOPVEJ6ON6NWTRK2NH\n",
      "File Name: 118389.zip - File ID: 0153IT3SW45AZBLZBF2BBJFRNKYUC7EVXU\n",
      "File Name: 118392.zip - File ID: 0153IT3SSORB4ZQPGNRBC2U2EZAPZYVJXD\n",
      "File Name: 118434.zip - File ID: 0153IT3ST7HHHZ4IEC6ZGZ2VJIIBI5ZYAF\n",
      "File Name: 118518.zip - File ID: 0153IT3SR52HRQ7XYH7NHLXTP36W3HW3PL\n",
      "File Name: 118524.zip - File ID: 0153IT3SSABSUAHUPXOBHID4Y2OZEJBZQ2\n",
      "File Name: 118528.zip - File ID: 0153IT3SSZ2BGKVCT5HRA2PB7KLB6FVQON\n",
      "File Name: 118554.zip - File ID: 0153IT3SXP5AR5WMBRI5H2X7E37CFUAQUJ\n",
      "File Name: 118631.zip - File ID: 0153IT3SQEUM2OK4STQZG3HDABUNAUFK7Y\n",
      "File Name: 118662.zip - File ID: 0153IT3SXWYEZGFVXEZNBKZTQJ5G2BF3IY\n",
      "File Name: 118759.zip - File ID: 0153IT3SQADHWHDEVFLBEJH25UO2YM2KLX\n",
      "File Name: 118797.zip - File ID: 0153IT3SV4VRFXHPWHWNAZJWM3PMX3UNFD\n",
      "File Name: 118799.zip - File ID: 0153IT3SRLQUBRVJ3T3VCIDRT7RF4YCCGL\n",
      "File Name: 118894.zip - File ID: 0153IT3SVVXSTWVSTCKZA2USHD2Z6MSSLX\n",
      "File Name: 118986.zip - File ID: 0153IT3SVT4RXSK2MJF5BYWLOPJBPAQSEM\n",
      "File Name: 119153.zip - File ID: 0153IT3SQGUCZFAQHCKRHKXVB4PHCZVTDC\n",
      "File Name: 119159.zip - File ID: 0153IT3SWGLJBDFP57C5D3NNDDZ3OBJZWH\n",
      "File Name: 119214.zip - File ID: 0153IT3SX3QYQPKOMDFFHZ6L6XQID2IPQR\n",
      "File Name: 119266.zip - File ID: 0153IT3SVO46MXB7STAZHYBVS7QHXTJ4AF\n",
      "File Name: 119283.zip - File ID: 0153IT3SQNX6FR237CMJE3P7KSY6CXIKZY\n",
      "File Name: 120115.zip - File ID: 0153IT3STTJ6G7ZD33KVDJ3WS2ANECKOS4\n",
      "File Name: 120117.zip - File ID: 0153IT3SQWNXNPD4MEFRBJSBG2KXBGQHDZ\n",
      "File Name: 120137.zip - File ID: 0153IT3ST75YFKFQOTZVGISEEOLAPEUHWX\n",
      "File Name: 120184.zip - File ID: 0153IT3SWWA3NB3O2UAVAIGR4QQ4AEX36V\n",
      "File Name: 120227.zip - File ID: 0153IT3SVOARRYL34BV5FZY5BMLRBVHJGA\n",
      "File Name: 120243.zip - File ID: 0153IT3SWOB4PD2OJNXNA2XMJ7QGRPAHZR\n",
      "File Name: 120246.zip - File ID: 0153IT3SSRPBIYQVLRJFCJR4YK6P4GWVQ6\n",
      "File Name: 120320.zip - File ID: 0153IT3SRDBF2DLIXHLFAKRURRVFJOZQ2H\n",
      "File Name: 120325.zip - File ID: 0153IT3SQRXD37OZIPJZC36YLPJHMACVAJ\n",
      "File Name: 120521.zip - File ID: 0153IT3SRYXSBNJ2XF6ZG2OWL5P4NBNTJJ\n",
      "File Name: 120692.zip - File ID: 0153IT3SU77KCVVPJO4VCKGWW25BAWJO6M\n",
      "File Name: 120783.zip - File ID: 0153IT3SRYJ3AC5DASURELAWCZZOTDZULX\n",
      "File Name: 120798.zip - File ID: 0153IT3SU4SLKGKTW2Y5F2L5LUGOTGL4IC\n",
      "File Name: 120835.zip - File ID: 0153IT3SVKTE4BIAC7RFAYIG22JIACFNTU\n",
      "File Name: 120907.zip - File ID: 0153IT3SXVZPVJSOUJ3FD3QMS7MVS3OPBR\n",
      "File Name: 120910.zip - File ID: 0153IT3SRH64M4IZZI6ZELKI22RXVLMXSJ\n",
      "File Name: 121060.zip - File ID: 0153IT3SWLZJOOTVT6TBDIYQPUZMNM6POE\n",
      "File Name: 121253.zip - File ID: 0153IT3SR2Q6WWRXY32RAZYYKLQEI42U2R\n",
      "File Name: 121259.zip - File ID: 0153IT3SW3SDKP5N4MRBGKVAKIAUVDYG5I\n",
      "File Name: 121600.zip - File ID: 0153IT3ST4EQPIF5UGM5F25YDIN6NTATAX\n",
      "File Name: 121628.zip - File ID: 0153IT3SVYVSUFNPYW5FDJEXC6VGF3544Q\n",
      "File Name: 122329.zip - File ID: 0153IT3SXUPMNKIWVYEJGINVCAGM56HMSZ\n",
      "File Name: 122369.zip - File ID: 0153IT3SW3Z5I63QHGLJDLNTAHMPJEKYJU\n",
      "File Name: 122442.zip - File ID: 0153IT3SQBWCVUXYRARJG3C5CWIO3YYLUL\n",
      "File Name: 123086.zip - File ID: 0153IT3STWEEZSA3NU5JBYDZJ4A7TF74IG\n",
      "File Name: 123453.zip - File ID: 0153IT3SWK7T5IOMB5KFH3KDLNWQUQFOJW\n",
      "File Name: 123623.zip - File ID: 0153IT3SS62EMGDGQNSVF2KJZHOM6ST7NL\n",
      "File Name: 123815.zip - File ID: 0153IT3SXKU4ZN34AR4ZFIBKWVC464AUFE\n",
      "File Name: 123848.zip - File ID: 0153IT3SR56ZGWWQNIVNFLPJFYO4OFJYB5\n",
      "File Name: 123897.zip - File ID: 0153IT3SX7Y4U3AM3YYVDLBOK5RK34NEOM\n",
      "File Name: 123927.zip - File ID: 0153IT3SRRERJA76OARBF2BFG6UPVG4Z27\n",
      "File Name: 123928.zip - File ID: 0153IT3SRDUSQCJ2MUVRE2F4Y242SQRO63\n",
      "File Name: 123986.zip - File ID: 0153IT3SXNFO6Q52227BBJ4IJMMTZIVKTW\n",
      "File Name: 123987.zip - File ID: 0153IT3SVK5RNFJ7HQ2ZCYFKV7JOMW5ZLZ\n"
     ]
    }
   ],
   "source": [
    "load_dotenv()\n",
    "\n",
    "# Azure application client info\n",
    "# client_id = 'd6912246-965f-4255-ba2b-fc593915f837'\n",
    "client_id = os.getenv('CLIENT_ID')\n",
    "client_secret = os.getenv('CLIENT_SECRET')\n",
    "tenant_id = os.getenv('TENANT_ID')\n",
    "# redirect_uri = 'https://login.microsoftonline.com/common/oauth2/nativeclient'\n",
    "\n",
    "# Get access token\n",
    "authority = f'https://login.microsoftonline.com/{tenant_id}'\n",
    "scopes = ['Files.Read', 'User.Read']\n",
    "app = msal.PublicClientApplication(client_id, authority=authority)\n",
    "\n",
    "# Request token\n",
    "result = app.acquire_token_interactive(scopes=scopes)\n",
    "\n",
    "if \"access_token\" in result:\n",
    "    access_token = result[\"access_token\"]\n",
    "    headers = {'Authorization': f'Bearer {access_token}'}\n",
    "\n",
    "# Access \"modeldb-code-analysis/modeldb-zips\"\n",
    "endpoint = 'https://graph.microsoft.com/v1.0/me/drive/root:/modeldb-code-analysis/modeldb-zips:/children'\n",
    "response = requests.get(endpoint, headers=headers)\n",
    "zip_name_id = {}\n",
    "if response.status_code == 200:\n",
    "    files_in_subfolder = response.json().get('value', [])\n",
    "    for file in files_in_subfolder:\n",
    "        zip_name_id[file['name']] = file['id']\n",
    "        print(f\"File Name: {file['name']} - File ID: {file['id']}\")\n",
    "else:\n",
    "    print(f\"Error: {response.status_code} - {response.text}\")\n",
    "\n",
    "    \n",
    "#     endpoint = 'https://graph.microsoft.com/v1.0/me/drive/root/children'\n",
    "#     response = requests.get(endpoint, headers=headers)\n",
    "\n",
    "#     if response.status_code == 200:\n",
    "#         files = response.json().get('value', [])\n",
    "#         folder_id = None\n",
    "#         for file in files:\n",
    "#             if file['name'] == 'modeldb-code-analysis' and file.get('folder'):\n",
    "#                 folder_id = file['id']\n",
    "#                 print(f\"Found folder 'modeldb-code-analysis' with ID: {folder_id}\")\n",
    "#                 break\n",
    "#         if not folder_id:\n",
    "#             print(\"Folder 'modeldb-code-analysis' not found.\")\n",
    "# else:\n",
    "#     print(\"Failed to obtain access token\")"
   ]
  },
  {
   "cell_type": "code",
   "execution_count": 32,
   "metadata": {},
   "outputs": [
    {
     "data": {
      "text/plain": [
       "200"
      ]
     },
     "execution_count": 32,
     "metadata": {},
     "output_type": "execute_result"
    }
   ],
   "source": [
    "len(zip_name_id)"
   ]
  },
  {
   "cell_type": "code",
   "execution_count": null,
   "metadata": {
    "colab": {
     "base_uri": "https://localhost:8080/"
    },
    "id": "bgNnJuPWWgoW",
    "outputId": "89f79b2b-6df2-482a-8e26-f397963e653e"
   },
   "outputs": [
    {
     "name": "stdout",
     "output_type": "stream",
     "text": [
      "completed\n"
     ]
    }
   ],
   "source": [
    "zip_file_path = '/content/drive/MyDrive/group capstone/modeldb_model/100603.zip'\n",
    "extract_folder = '/content/drive/MyDrive/group capstone/modeldb_model/100603/'\n",
    "os.makedirs(extract_folder, exist_ok=True)\n",
    "\n",
    "with zipfile.ZipFile(zip_file_path, 'r') as zip_ref:\n",
    "    zip_ref.extractall(extract_folder)\n",
    "\n",
    "print(\"completed\")\n"
   ]
  },
  {
   "cell_type": "code",
   "execution_count": null,
   "metadata": {
    "colab": {
     "base_uri": "https://localhost:8080/"
    },
    "id": "pvqKyjjxdKSf",
    "outputId": "001a829a-fe52-4ebc-b07b-031c8a026f3e"
   },
   "outputs": [
    {
     "name": "stdout",
     "output_type": "stream",
     "text": [
      "Files matching the rules have been saved to /content/drive/My Drive/group capstone/modeldb_model/match_file/100603_matched_files.txt\n"
     ]
    }
   ],
   "source": [
    "# Set the path for the JSON file and the output file\n",
    "json_file_path = '/content/drive/My Drive/group capstone/manual_classifier_rules.json'\n",
    "output_file_path = '/content/drive/My Drive/group capstone/modeldb_model/match_file/100603_matched_files.txt'\n",
    "\n",
    "# Load rules from the JSON file\n",
    "with open(json_file_path, 'r', encoding='utf-8') as json_file:\n",
    "    rules = json.load(json_file)\n",
    "\n",
    "# Convert rules to a list of regex patterns and corresponding replacements\n",
    "pattern_mapping = {re.compile(pattern): replacement for pattern, replacement in rules.items()}\n",
    "\n",
    "matched_files = []\n",
    "# Set the list of acceptable file extensions\n",
    "acceptable_extensions = ('.py', '.cpp', '.java', '.m', '.txt','.h','.data','.html','.c')#不确定是否要限制文件类型\n",
    "\n",
    "# Traverse subfolders in the extract_folder directory\n",
    "for subfolder in os.listdir(extract_folder):\n",
    "    subfolder_path = os.path.join(extract_folder, subfolder)\n",
    "    if os.path.isdir(subfolder_path):  # Check if it's a directory\n",
    "        for root, _, files in os.walk(subfolder_path):\n",
    "            for file in files:\n",
    "                file_path = os.path.join(root, file)\n",
    "                # Check if the file extension is acceptable\n",
    "                if not file.lower().endswith(acceptable_extensions):\n",
    "                    continue  # Skip the file if the extension is not acceptable\n",
    "\n",
    "                # Open the file and check its content against the rules\n",
    "                with open(file_path, 'r', encoding='utf-8', errors='ignore') as f:\n",
    "                    content = f.read()\n",
    "                    for pattern, replacement_list in pattern_mapping.items():\n",
    "                        if pattern.search(content):  # If any pattern matches the file content\n",
    "                            matched_files.append(file_path)\n",
    "                            break  # Stop checking this file if one rule is matched\n",
    "\n",
    "\n",
    "# Write matched file contents to a new text file\n",
    "with open(output_file_path, 'w', encoding='utf-8') as output_file:\n",
    "    for file_path in matched_files:\n",
    "        output_file.write(f'=== {file_path} ===\\n')  # Write the file path\n",
    "        with open(file_path, 'r', encoding='utf-8', errors='ignore') as f:\n",
    "            output_file.write(f.read())  # Write the file content\n",
    "            output_file.write('\\n\\n')  # Add a newline between files\n",
    "\n",
    "print(f\"Files matching the rules have been saved to {output_file_path}\")\n"
   ]
  },
  {
   "cell_type": "code",
   "execution_count": null,
   "metadata": {
    "colab": {
     "base_uri": "https://localhost:8080/"
    },
    "id": "C8jimD5CM00o",
    "outputId": "01eb2169-ed32-40d8-fb47-a37bbf07c930"
   },
   "outputs": [
    {
     "name": "stdout",
     "output_type": "stream",
     "text": [
      "modeldb-model  modeldb-zips\n"
     ]
    }
   ],
   "source": [
    "! ls '/content/drive/MyDrive/group capstone/modeldb_model/modeldb-zips'"
   ]
  },
  {
   "cell_type": "code",
   "execution_count": null,
   "metadata": {
    "id": "1PIotW2CL5Qv"
   },
   "outputs": [],
   "source": [
    "def process_model(model_name):\n",
    "    # Set the path for the zip file and extraction folder based on the model name\n",
    "    zip_file_path = f'/content/drive/MyDrive/group capstone/modeldb_model/modeldb-zips/modeldb-zips/{model_name}.zip'\n",
    "    extract_folder = f'/content/drive/MyDrive/group capstone/modeldb_model/modeldb-zips/modeldb-model/{model_name}/'\n",
    "    os.makedirs(extract_folder, exist_ok=True)\n",
    "\n",
    "    # Extract the zip file\n",
    "    with zipfile.ZipFile(zip_file_path, 'r') as zip_ref:\n",
    "        zip_ref.extractall(extract_folder)\n",
    "\n",
    "    print(f\"{model_name} extraction completed\")\n",
    "\n",
    "    # Set the path for the JSON rules file and output file\n",
    "    json_file_path = '/content/drive/My Drive/group capstone/manual_classifier_rules.json'\n",
    "    output_file_path = f'/content/drive/My Drive/group capstone/modeldb_model/match_file/{model_name}_matched_files.txt'\n",
    "\n",
    "    # Load rules from the JSON file\n",
    "    with open(json_file_path, 'r', encoding='utf-8') as json_file:\n",
    "        rules = json.load(json_file)\n",
    "\n",
    "    # Convert rules to a dictionary of regex patterns and replacements\n",
    "    pattern_mapping = {re.compile(pattern): replacement for pattern, replacement in rules.items()}\n",
    "\n",
    "    matched_files = []\n",
    "    # Define acceptable file extensions\n",
    "    acceptable_extensions = ('.py', '.cpp', '.java', '.m', '.txt', '.h', '.data', '.html', '.c')  # Adjust as needed\n",
    "\n",
    "    # Traverse subfolders and files in the extraction folder\n",
    "    for subfolder in os.listdir(extract_folder):\n",
    "        subfolder_path = os.path.join(extract_folder, subfolder)\n",
    "        if os.path.isdir(subfolder_path):  # Check if it's a directory\n",
    "            for root, _, files in os.walk(subfolder_path):\n",
    "                for file in files:\n",
    "                    file_path = os.path.join(root, file)\n",
    "                    # Check if the file extension is acceptable\n",
    "                    if not file.lower().endswith(acceptable_extensions):\n",
    "                        continue  # Skip the file if the extension is not acceptable\n",
    "\n",
    "                    # Open the file and check its content against the rules\n",
    "                    with open(file_path, 'r', encoding='utf-8', errors='ignore') as f:\n",
    "                        content = f.read()\n",
    "                        for pattern, replacement_list in pattern_mapping.items():\n",
    "                            if pattern.search(content):  # If any rule matches the file content\n",
    "                                matched_files.append(file_path)\n",
    "                                break  # Stop checking this file if one rule is matched\n",
    "\n",
    "    # Write matched file contents to a new text file\n",
    "    with open(output_file_path, 'w', encoding='utf-8') as output_file:\n",
    "        for file_path in matched_files:\n",
    "            output_file.write(f'=== {file_path} ===\\n')  # Write the file path\n",
    "            with open(file_path, 'r', encoding='utf-8', errors='ignore') as f:\n",
    "                output_file.write(f.read())  # Write the file content\n",
    "                output_file.write('\\n\\n')  # Add a newline between files\n",
    "\n",
    "    print(f\"Files matching the rules have been saved to {output_file_path}\")\n"
   ]
  },
  {
   "cell_type": "code",
   "execution_count": null,
   "metadata": {
    "colab": {
     "base_uri": "https://localhost:8080/"
    },
    "id": "Pod_Mt1VOQFn",
    "outputId": "60de42e4-d653-49d9-d0ab-295d74a7c6b7"
   },
   "outputs": [
    {
     "name": "stdout",
     "output_type": "stream",
     "text": [
      "93394 extraction completed\n",
      "Files matching the rules have been saved to /content/drive/My Drive/group capstone/modeldb_model/match_file/93394_matched_files.txt\n"
     ]
    }
   ],
   "source": [
    "model_name = '93394'\n",
    "process_model(model_name)"
   ]
  },
  {
   "cell_type": "code",
   "execution_count": null,
   "metadata": {
    "id": "C1Aovv2v_jhD"
   },
   "outputs": [],
   "source": [
    "api_key = os.getenv('API_KEY')\n",
    "organization=os.getenv('ORGANIZATION')\n",
    "output_file_path='/content/drive/My Drive/group capstone/modeldb_model/match_file/93394_matched_files.txt'"
   ]
  },
  {
   "cell_type": "code",
   "execution_count": null,
   "metadata": {
    "colab": {
     "base_uri": "https://localhost:8080/"
    },
    "id": "BnsTFUBo_Ux1",
    "outputId": "ac5d6e90-f274-493e-87d6-89fddf90df53"
   },
   "outputs": [
    {
     "name": "stdout",
     "output_type": "stream",
     "text": [
      "Generated metadata: Metadata:\n",
      "- Author: Quentin Huys\n",
      "- Year: 2006\n",
      "- Title: Fast population coding Neural Computation\n",
      "- Description: Example code for fast population coding with sparse spike trains in conjunction with a 2006 paper by Quentin Huys, Zemel RS, Natarajan R and Dayan P.\n",
      "- License: GNU General Public License\n",
      "- Website: http://www.gatsby.ucl.ac.uk/~qhuys/code.html\n",
      "- Email: qhuys@gatsby.ucl.ac.uk\n",
      "- Files:\n",
      "  - COPYRIGHT.txt\n",
      "  - getinf.m\n",
      "  - getspk.m\n",
      "  - getstim.m\n",
      "  - LICENSE.txt\n",
      "  - main.m\n",
      "  - param.m\n",
      "  - plots.m\n",
      "  - psinf.m\n",
      "  - pspred.m\n",
      "  - README.txt\n",
      "  - setup.m\n"
     ]
    }
   ],
   "source": [
    "with open(output_file_path, 'r', encoding='utf-8') as file:\n",
    "    file_content = file.read()\n",
    "client = OpenAI(\n",
    "    api_key=api_key,\n",
    "    organization=organization\n",
    ")\n",
    "\n",
    "\n",
    "chat_completion = client.chat.completions.create(\n",
    "    model=\"gpt-3.5-turbo\",\n",
    "    messages=[\n",
    "        {\n",
    "            \"role\": \"user\",\n",
    "            \"content\": f\"Please analyze the following content and provide some metadata about it:\\n\\n{file_content}\"\n",
    "        }\n",
    "    ],\n",
    ")\n",
    "\n",
    "response_dict = chat_completion.to_dict()\n",
    "metadata = response_dict[\"choices\"][0][\"message\"][\"content\"].strip()\n",
    "print(\"Generated metadata:\", metadata)"
   ]
  }
 ],
 "metadata": {
  "colab": {
   "provenance": []
  },
  "kernelspec": {
   "display_name": "bis634",
   "language": "python",
   "name": "python3"
  },
  "language_info": {
   "codemirror_mode": {
    "name": "ipython",
    "version": 3
   },
   "file_extension": ".py",
   "mimetype": "text/x-python",
   "name": "python",
   "nbconvert_exporter": "python",
   "pygments_lexer": "ipython3",
   "version": "3.10.14"
  }
 },
 "nbformat": 4,
 "nbformat_minor": 0
}
