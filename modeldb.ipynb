{
 "cells": [
  {
   "cell_type": "markdown",
   "metadata": {
    "id": "GHO2LbqgAGdu"
   },
   "source": [
    "rule-based method"
   ]
  },
  {
   "cell_type": "code",
   "execution_count": 1,
   "metadata": {
    "colab": {
     "base_uri": "https://localhost:8080/"
    },
    "id": "k9oBrNBsUCBa",
    "outputId": "ef9c1d12-db19-4673-c790-22ffe72bf028"
   },
   "outputs": [],
   "source": [
    "import os\n",
    "from openai import OpenAI\n",
    "import os\n",
    "import zipfile\n",
    "import json\n",
    "import re\n",
    "import msal\n",
    "import requests\n",
    "from dotenv import load_dotenv"
   ]
  },
  {
   "cell_type": "code",
   "execution_count": 3,
   "metadata": {},
   "outputs": [
    {
     "name": "stdout",
     "output_type": "stream",
     "text": [
      "File Name: 100603.zip - File ID: 01W2ZTQFSJAWW2GX2WYZBLNJYOCXJC6J4D\n",
      "File Name: 102288.zip - File ID: 01W2ZTQFR3YOIAT2NXGJHKXGZTPIDCUXAL\n",
      "File Name: 10360.zip - File ID: 01W2ZTQFXYZAPLRFDRMBBJZSVHNHGQ2Z4A\n",
      "File Name: 104623.zip - File ID: 01W2ZTQFWM3HZSVYJ36NFZYEZANTCJXNWS\n",
      "File Name: 105383.zip - File ID: 01W2ZTQFUWCPC7RW3A6BHLMKE7DPRG6QGE\n",
      "File Name: 105506.zip - File ID: 01W2ZTQFQUS3USF2X3GVGYESXG2MQQBFS3\n",
      "File Name: 105507.zip - File ID: 01W2ZTQFQLDNT5AYOAQ5FLTZXPXHWQ54HX\n",
      "File Name: 105528.zip - File ID: 01W2ZTQFRGNFLGRWS3PJF2WDQOTSAXSIO4\n",
      "File Name: 106891.zip - File ID: 01W2ZTQFUWX4BGS2KQJ5DL4GTETQMRHEM4\n",
      "File Name: 108459.zip - File ID: 01W2ZTQFQPZ27SG6YVVVCLVBCHJSCNYEQN\n",
      "File Name: 110022.zip - File ID: 01W2ZTQFXCT5BP6AIGTJEKKMDFUTPXVZGP\n",
      "File Name: 111870.zip - File ID: 01W2ZTQFSB6MB3UZHKCNEYZIMZEFBHQ3JM\n",
      "File Name: 111880.zip - File ID: 01W2ZTQFQFJZIL2HXODNEYSHGO2ESUGKFV\n",
      "File Name: 112049.zip - File ID: 01W2ZTQFQKXHSTF32K2JE3IVSRQHOQ22AW\n",
      "File Name: 112071.zip - File ID: 01W2ZTQFVXMUZ6VDCXFZB3UMZ6CQ5G22L6\n",
      "File Name: 112079.zip - File ID: 01W2ZTQFV4R7GYXR6PFVFZIWFI3IPB2O5T\n",
      "File Name: 112546.zip - File ID: 01W2ZTQFV5M6XNFDJ6JFDJL7UGYIPVRBJD\n",
      "File Name: 112547.zip - File ID: 01W2ZTQFVYGFFSZTMVHBAL6NHIVQD4YCNR\n",
      "File Name: 112633.zip - File ID: 01W2ZTQFR7DEVHSL4QKBELBOUEEDV7G4LP\n",
      "File Name: 112685.zip - File ID: 01W2ZTQFTJIMNUNIB2LJGJYBKLOEOZOXUV\n",
      "File Name: 112834.zip - File ID: 01W2ZTQFVZGIB2AHEHSNAZ2RA7WJLY7UDQ\n",
      "File Name: 112836.zip - File ID: 01W2ZTQFXADSI565J4XRAZFW5HHQAVWN4T\n",
      "File Name: 112968.zip - File ID: 01W2ZTQFR4BFYTUQS7ARBLVXDLGJ74SIOV\n",
      "File Name: 113426.zip - File ID: 01W2ZTQFWRXEQ6S5G37FHIGAFXMADBDGEM\n",
      "File Name: 113649.zip - File ID: 01W2ZTQFTRNHQGVPMMDVBILSRIW7RJB42A\n",
      "File Name: 113732.zip - File ID: 01W2ZTQFQXS5CQI35PGND27OZNUFSNYK4Y\n",
      "File Name: 113939.zip - File ID: 01W2ZTQFWWODO6H2FJCFCYJRZ7H4CBA7PI\n",
      "File Name: 114047.zip - File ID: 01W2ZTQFTFLQMRYGOXERBIBLFYO6VXD3OT\n",
      "File Name: 114230.zip - File ID: 01W2ZTQFWQ5XRJDLOIYFEKP7LOC7JVYK5T\n",
      "File Name: 114242.zip - File ID: 01W2ZTQFUHGAPSQZTQXZB3QG55MLKLCFS5\n",
      "File Name: 114342.zip - File ID: 01W2ZTQFSY2TDFPOJ4IVCI6RQ7CWCOIHAK\n",
      "File Name: 114359.zip - File ID: 01W2ZTQFUXJ75RX2LPRBB2OYFNAFHZWOT5\n",
      "File Name: 114365.zip - File ID: 01W2ZTQFTCLDTIIK4CDJCYJ752SAZRWSGB\n",
      "File Name: 114424.zip - File ID: 01W2ZTQFTOXL5LLRNL2RGK3QINA2DFGSSH\n",
      "File Name: 114450.zip - File ID: 01W2ZTQFVN4W3PBA3Q6BBLN7CKRAAQHI26\n",
      "File Name: 114451.zip - File ID: 01W2ZTQFSE7UXLNFPVGBH26LWM3C7SZ56K\n",
      "File Name: 114452.zip - File ID: 01W2ZTQFRNQTR65HAVFRD3TORBTMIT5O4T\n",
      "File Name: 114637.zip - File ID: 01W2ZTQFTQMGGYQX2QRJCYFHFERGIW5IY2\n",
      "File Name: 114639.zip - File ID: 01W2ZTQFSI5GCXUW2V7BHY2QBRHP5KLLEC\n",
      "File Name: 114643.zip - File ID: 01W2ZTQFTXAVFQHI5XBFGZFEPLW4CLJKWP\n",
      "File Name: 114652.zip - File ID: 01W2ZTQFQXW2XPH3LGZVHZZVIBUGI7SJ67\n",
      "File Name: 114655.zip - File ID: 01W2ZTQFTO7DCNJ4ZKRZFIJMISF2FZRFUQ\n",
      "File Name: 114665.zip - File ID: 01W2ZTQFV62CO6IMXJPNEKSWEC4WBA3JHO\n",
      "File Name: 114685.zip - File ID: 01W2ZTQFRK4V64OMKAANBJI7AJY4MSWUH5\n",
      "File Name: 114735.zip - File ID: 01W2ZTQFTKVKXOYMQEYBAIZ3IAD6VD6BWM\n",
      "File Name: 115356.zip - File ID: 01W2ZTQFSQ2UWXJHDTQ5EJX53NAXHS26NT\n",
      "File Name: 115435.zip - File ID: 01W2ZTQFRKX7DGJOOO7BEY4GKIS33VZJOM\n",
      "File Name: 115920.zip - File ID: 01W2ZTQFWJWPQJY5YGIVHLRTY7F2JN7MRC\n",
      "File Name: 115968.zip - File ID: 01W2ZTQFVUARKVYGZPURDJLCB3E2BTU2EG\n",
      "File Name: 116053.zip - File ID: 01W2ZTQFTAFOOOT6AMIZBKNLTZPNQBW3WF\n",
      "File Name: 116079.zip - File ID: 01W2ZTQFROUKQEDVEV2JH2OYU2HOA76B7S\n",
      "File Name: 116080.zip - File ID: 01W2ZTQFQ3CC5FBMT7M5D2V44ABKLSV6HS\n",
      "File Name: 116082.zip - File ID: 01W2ZTQFS7ZG5MCTGZCVEZ7PAW7WBMPBP5\n",
      "File Name: 116083.zip - File ID: 01W2ZTQFWILZVCEVAUWZHYRVPO5EUAMETD\n",
      "File Name: 116094.zip - File ID: 01W2ZTQFSTRO4RRXBUKNAIILUOYXT4IFRX\n",
      "File Name: 116123.zip - File ID: 01W2ZTQFSVPYQD5Y3IIFD2FWHU356PCOTM\n",
      "File Name: 116313.zip - File ID: 01W2ZTQFSZKBGGN6RRERDZWYB7GHNYHXIW\n",
      "File Name: 116368.zip - File ID: 01W2ZTQFWB2CZFDTHTZZE337XA2AQRVWQG\n",
      "File Name: 116386.zip - File ID: 01W2ZTQFTG5TG3FLJY7VEZGKDYS2MNDJ7Y\n",
      "File Name: 116491.zip - File ID: 01W2ZTQFQOSVM4VYQGKZCLAGDTPZJXEUKL\n",
      "File Name: 116567.zip - File ID: 01W2ZTQFWHSWC3RCYH7FCJFCSTBFO42XK6\n",
      "File Name: 116575.zip - File ID: 01W2ZTQFTPVJHZPBYWPVELQVV3HNSLNSCT\n",
      "File Name: 116606.zip - File ID: 01W2ZTQFXGMIFJKR4QUVAZVDBZCQ74CX2Z\n",
      "File Name: 116769.zip - File ID: 01W2ZTQFSYW7HXAMKZZRAJYVTRNGB2P235\n",
      "File Name: 116806.zip - File ID: 01W2ZTQFUB6MIUO4FO4JHLINSZWKNP6VMS\n",
      "File Name: 116830.zip - File ID: 01W2ZTQFVJ2TKVP4JCOVCKTXSKPVNUZ5GF\n",
      "File Name: 116832.zip - File ID: 01W2ZTQFSVTFSU7K3GDFA3XJOOX34OK5CA\n",
      "File Name: 116837.zip - File ID: 01W2ZTQFQ5AUKUQUMYTNHLGBTMU4JENY4B\n",
      "File Name: 116867.zip - File ID: 01W2ZTQFU2RPHILHF6TZAZDVLCX6V7ED7U\n",
      "File Name: 116870.zip - File ID: 01W2ZTQFQIWGFOAM3KU5F3P6QFGL4KQAUL\n",
      "File Name: 116871.zip - File ID: 01W2ZTQFSFNK3VRMKTVRGLEPFQSYZEUIWZ\n",
      "File Name: 116901.zip - File ID: 01W2ZTQFURVCNTTMMRFZE2XFXOKO4NR464\n",
      "File Name: 116945.zip - File ID: 01W2ZTQFWTOLJ5KRRPAJCZ273CN3ARTASF\n",
      "File Name: 116957.zip - File ID: 01W2ZTQFXQLDZAE6CHEFAIY5TSX6GHLMUX\n",
      "File Name: 117204.zip - File ID: 01W2ZTQFQQUNDII5WMKNAIMMIDXS3XDO45\n",
      "File Name: 117361.zip - File ID: 01W2ZTQFX4GK2UBOWOPVEJ3N3ADP2GV2JZ\n",
      "File Name: 117508.zip - File ID: 01W2ZTQFWOUQCJPYRLQJBYBGOG34E43FHC\n",
      "File Name: 118020.zip - File ID: 01W2ZTQFWC445TCESUPRA3AQVI7Y36FVDE\n",
      "File Name: 118091.zip - File ID: 01W2ZTQFTOBT36BR6JJ5BKA7UN4YG46HVP\n",
      "File Name: 118092.zip - File ID: 01W2ZTQFUSYU7LDQ6F3BC3DS3PPN4MOYCP\n",
      "File Name: 118098.zip - File ID: 01W2ZTQFQ7M6FHTVYGQVH3K5HN6FPFZVFW\n",
      "File Name: 118195.zip - File ID: 01W2ZTQFRQAQ3W4SZYKREYHTSQKMRSPE5U\n",
      "File Name: 118196.zip - File ID: 01W2ZTQFQ7IRYW6M2XWZHYD25IMGWB4UC6\n",
      "File Name: 118199.zip - File ID: 01W2ZTQFSYT5SORIXGBRAYTNFWUGIN65GA\n",
      "File Name: 118389.zip - File ID: 01W2ZTQFQWPEPSW5U4KJDK7BBZYALUHJPE\n",
      "File Name: 118434.zip - File ID: 01W2ZTQFRIDQRRRLFWOJHYV64NUX6RV2VX\n",
      "File Name: 118518.zip - File ID: 01W2ZTQFQBCJV23NV4YFCZNQF666AAJYVR\n",
      "File Name: 118528.zip - File ID: 01W2ZTQFQS3OJIHXPOVZAZ4IPLM27LM5CI\n",
      "File Name: 118554.zip - File ID: 01W2ZTQFS4UQPMUSMB7NFLVZRDQSMS66BV\n",
      "File Name: 118894.zip - File ID: 01W2ZTQFXAARP4NUPPD5CJPH65QQ3BSRG4\n",
      "File Name: 119159.zip - File ID: 01W2ZTQFUHGCWP3ICBDND3FY2YPU2VR2L3\n",
      "File Name: 119214.zip - File ID: 01W2ZTQFWZJBCH3PMB6ZGLYUV273IRZ3ZU\n",
      "File Name: 119266.zip - File ID: 01W2ZTQFQFWEOVHCRKT5AZIXRBK5JWSQSI\n",
      "File Name: 119283.zip - File ID: 01W2ZTQFS2P633VGEUTBEL7QCRTCTJAWJF\n",
      "File Name: 120117.zip - File ID: 01W2ZTQFUA6UNBJADF45FZVD47JPHLQDV3\n",
      "File Name: 120227.zip - File ID: 01W2ZTQFXVZIAHAPDFQ5A337VRUE2ZXYNW\n",
      "File Name: 120783.zip - File ID: 01W2ZTQFTHIN6V7XOAYRBLSQFA6TD44APM\n",
      "File Name: 120798.zip - File ID: 01W2ZTQFTGCUJNSE6KBRC25DQO7PQFQHCH\n",
      "File Name: 120835.zip - File ID: 01W2ZTQFR4TUG65FBV25HI3CNRPQM2NNVD\n",
      "File Name: 120907.zip - File ID: 01W2ZTQFQMZC5SGJQ2W5CYC3MIPCLJAPQG\n",
      "File Name: 121253.zip - File ID: 01W2ZTQFTY65YASZT76ZEJR5M4RYVQBHZB\n",
      "File Name: 121259.zip - File ID: 01W2ZTQFV5Z75XGKBCZBAZDSXLQXYQ34MY\n",
      "File Name: 122329.zip - File ID: 01W2ZTQFWW3IRZZX3LSNHLD3XSU3G7S7N4\n",
      "File Name: 122369.zip - File ID: 01W2ZTQFR66UDBESKD5RFKBJSCQCMRB65K\n",
      "File Name: 123453.zip - File ID: 01W2ZTQFQFN5YKWBAYVJD2E2JGLH7E4HUJ\n",
      "File Name: 123815.zip - File ID: 01W2ZTQFXMEHSGMKYFTBFKVK5YEFOPNNK2\n",
      "File Name: 123897.zip - File ID: 01W2ZTQFXZIRWDJQAS5FHYPP5ET5FXPHGG\n",
      "File Name: 124329.zip - File ID: 01W2ZTQFRVMAPV2H43KVHI2EKXUB6KZ65N\n",
      "File Name: 124392.zip - File ID: 01W2ZTQFX2JBNKYUI2ORA24IR3NG7T5W2E\n",
      "File Name: 124394.zip - File ID: 01W2ZTQFVEZ7N4CQ73XZFLCMNVZQLBMD3B\n",
      "File Name: 124513.zip - File ID: 01W2ZTQFROJ5U6PV56CZGKAD6PIB45XKVL\n",
      "File Name: 124524.zip - File ID: 01W2ZTQFQSXIM7NW37TBFKCQKFO33XEHE4\n",
      "File Name: 125125.zip - File ID: 01W2ZTQFVFQOXJIT7POVCLTWZXMJSV3L2C\n",
      "File Name: 125152.zip - File ID: 01W2ZTQFWQ3Q24OS53YRBJCAIENOF6ISRY\n",
      "File Name: 125378.zip - File ID: 01W2ZTQFTUZRDLWACJCFGZRLTHRD3KMOR7\n",
      "File Name: 125529.zip - File ID: 01W2ZTQFWR5Q3Z6JT3IRBICOAXGTY4SBLE\n",
      "File Name: 125649.zip - File ID: 01W2ZTQFR3PIGCXZA5ZRCJMAS4BHPJ7UVZ\n",
      "File Name: 125654.zip - File ID: 01W2ZTQFR2LLD6HFAQERDIKWIZAOOPODTC\n",
      "File Name: 125676.zip - File ID: 01W2ZTQFVOXBZVRTHKUJEKGN6NKFS3SFMF\n",
      "File Name: 125683.zip - File ID: 01W2ZTQFQZMGSX3XTEOZHKOVBFB7IXM3RO\n",
      "File Name: 125689.zip - File ID: 01W2ZTQFUPYHUVU2VR7NHIHNMILKIYAIGW\n",
      "File Name: 125733.zip - File ID: 01W2ZTQFVVPDVRPOAPJBCZBW5BJVU4DFKS\n",
      "File Name: 125748.zip - File ID: 01W2ZTQFWNZTJ4RIHBOVGIOXIJDFAPGORN\n",
      "File Name: 125855.zip - File ID: 01W2ZTQFVIUQCH5DB5PJEJLCQJUVAPCUBE\n",
      "File Name: 126098.zip - File ID: 01W2ZTQFVXHB57IV2LCNGJG2Q5F7BRSDZ7\n",
      "File Name: 126371.zip - File ID: 01W2ZTQFSULEJFEQ6JFJEIITTW6L4PDEW2\n",
      "File Name: 126465.zip - File ID: 01W2ZTQFUFF666JXMTERFLC3IOJF3NFSUV\n",
      "File Name: 126466.zip - File ID: 01W2ZTQFUH7FG7QQ43ABGJ43HXG3CUVG2K\n",
      "File Name: 126467.zip - File ID: 01W2ZTQFSPIFRHZ56GURG3Q33EKNEKB46G\n",
      "File Name: 126471.zip - File ID: 01W2ZTQFUM5UJCDOFUPZDZKAQLIVD2THOH\n",
      "File Name: 126489.zip - File ID: 01W2ZTQFUT33V6VM7GMRDZ5BXEYBQSLGXX\n",
      "File Name: 126598.zip - File ID: 01W2ZTQFSZTOW7O3OWZJBLBIDAINY435CN\n",
      "File Name: 126637.zip - File ID: 01W2ZTQFVP47OMCF3R3ND2PIYFDLEPGP7J\n",
      "File Name: 126776.zip - File ID: 01W2ZTQFXJ5S2RT3DLPZCKJLGR3VKPWNSK\n",
      "File Name: 126814.zip - File ID: 01W2ZTQFT4EMXR4IEVYRBJNAURWBQRWL4C\n",
      "File Name: 126899.zip - File ID: 01W2ZTQFRMH4YSFW3YOVB2KP4XVJSSPY6Z\n",
      "File Name: 127021.zip - File ID: 01W2ZTQFRB7ZPH6B6R5BAYRUUX6X72DJK2\n",
      "File Name: 127190.zip - File ID: 01W2ZTQFXKFHRQXDTKXFBICULDRHAW33YP\n",
      "File Name: 127351.zip - File ID: 01W2ZTQFRK27GOZGLDRNCJBKEVAAX56ROV\n",
      "File Name: 127995.zip - File ID: 01W2ZTQFWDJGRGU3IXIJGIQOSYPUMFXWGH\n",
      "File Name: 127996.zip - File ID: 01W2ZTQFXKGFMWWCLRQRAJKECOM5YGHRK6\n",
      "File Name: 128043.zip - File ID: 01W2ZTQFSZUNZLT7TUOJA2DPOWXHNI52PX\n",
      "File Name: 128449.zip - File ID: 01W2ZTQFTCYRMODDXY55FYDCFYSRTSAELE\n",
      "File Name: 128502.zip - File ID: 01W2ZTQFWN4L7FFOJZCZFKE7UII5OVCVGQ\n",
      "File Name: 128812.zip - File ID: 01W2ZTQFTRN26U2HVY5NCYQ7LH7BHO22DV\n",
      "File Name: 129067.zip - File ID: 01W2ZTQFSEITV2PEEGUFEZ4INH2TNX62MN\n",
      "File Name: 135838.zip - File ID: 01W2ZTQFVBWKWJJ2552BGZUQH7T5H6WKRB\n",
      "File Name: 135839.zip - File ID: 01W2ZTQFXWIMQWEOYOWJHLIHCWM5ODUZ2Z\n",
      "File Name: 135898.zip - File ID: 01W2ZTQFTJHZUHEROTMZBYDFJO36UCGVCQ\n",
      "File Name: 135903.zip - File ID: 01W2ZTQFXY3EI26X3VZJFY5WA34VJD65HO\n",
      "File Name: 136095.zip - File ID: 01W2ZTQFXJK44ZUUUOHFHK7CKCL4ZIDN52\n",
      "File Name: 136175.zip - File ID: 01W2ZTQFRBPPGGBUFXL5C37BPT4JPFD44R\n",
      "File Name: 136296.zip - File ID: 01W2ZTQFSYQZHTEZS2MZH2F2R2RYBK3UHQ\n",
      "File Name: 136308.zip - File ID: 01W2ZTQFQHWYQXC5EZ6ZAZEZKVQ55ZU52C\n",
      "File Name: 136309.zip - File ID: 01W2ZTQFQQ2GFSTCLG5VGK6O64PHFGXO5S\n",
      "File Name: 136315.zip - File ID: 01W2ZTQFSZAOPKOUGQ7BFYPAKDVQVVGWLT\n",
      "File Name: 136380.zip - File ID: 01W2ZTQFXE7W5YHFQ5RZGLST7JRS4AB77U\n",
      "File Name: 136715.zip - File ID: 01W2ZTQFUHZA3F5PZQMFGKOKS27KVS4PRO\n",
      "File Name: 136717.zip - File ID: 01W2ZTQFQ4GHXV63IKS5H3B55GAMAKPR3T\n",
      "File Name: 136799.zip - File ID: 01W2ZTQFVOCRO2DAZJSVAYSWVA4LIYICCR\n",
      "File Name: 136803.zip - File ID: 01W2ZTQFW5IUP4IMLUL5BZ4EMSXT5PNHH6\n",
      "File Name: 136805.zip - File ID: 01W2ZTQFVRX6OXORMIURCKLQAKJ4XOVVGV\n",
      "File Name: 136807.zip - File ID: 01W2ZTQFQI4WZZHSFH6FHKS3CG2GYE566X\n",
      "File Name: 137263.zip - File ID: 01W2ZTQFRZCFT23XYYT5B24B62V53NXO3F\n",
      "File Name: 137502.zip - File ID: 01W2ZTQFQW7XYLFIXUOJEL7GS2KJW2VCWU\n",
      "File Name: 137505.zip - File ID: 01W2ZTQFTGYSUOFGSFWZFY3BI4BIHHXOVH\n",
      "File Name: 137743.zip - File ID: 01W2ZTQFVWJG3O5YNSVVCKEQK73R3OKC4K\n",
      "File Name: 137845.zip - File ID: 01W2ZTQFXV3CJOPAD7HRAZNHS35G7D6FLE\n",
      "File Name: 137846.zip - File ID: 01W2ZTQFXTJZ5MAID2YBAIESWFJDNOVTBG\n",
      "File Name: 138205.zip - File ID: 01W2ZTQFVH2HE6WSJ6HBA2UARITAO2WGA2\n",
      "File Name: 138321.zip - File ID: 01W2ZTQFT5BOENNHNMHNAYYGPYVQ6GAPMM\n",
      "File Name: 138379.zip - File ID: 01W2ZTQFQSL4727G7PHJHJK54YT7MPABZQ\n",
      "File Name: 138634.zip - File ID: 01W2ZTQFTETLN37J5KORD2FS57IFO2TQ37\n",
      "File Name: 138950.zip - File ID: 01W2ZTQFR4TFMM2PDATRDJL2QV74SFOHCN\n",
      "File Name: 138951.zip - File ID: 01W2ZTQFVY73LAR6WDD5E2CGGUO7T32BCD\n",
      "File Name: 139266.zip - File ID: 01W2ZTQFR4RWZXYSRZ6NA3OPRA324WKAWB\n",
      "File Name: 139296.zip - File ID: 01W2ZTQFWFGSHK4H3XINA2S3HPP2277IYS\n",
      "File Name: 139421.zip - File ID: 01W2ZTQFXPURMRI6CRNNGIPMNJF5LYLATA\n",
      "File Name: 139653.zip - File ID: 01W2ZTQFW4BREPUQDDF5BIZPHOCOJG5XSF\n",
      "File Name: 139654.zip - File ID: 01W2ZTQFRGIPNWXXVPRRHYXXZXINDRSXHW\n",
      "File Name: 139655.zip - File ID: 01W2ZTQFR72UG5YBXTCJC2BBY5XE3G6NJA\n",
      "File Name: 139657.zip - File ID: 01W2ZTQFVJA56SEVRVHRHJ7MD3JJGIL72E\n",
      "File Name: 140249.zip - File ID: 01W2ZTQFRQFSOZHMCNG5GICI5UBSUUPZMB\n",
      "File Name: 140732.zip - File ID: 01W2ZTQFVLSRDFEOQVB5BI4THGSESN7NE2\n",
      "File Name: 140788.zip - File ID: 01W2ZTQFSHLI6KXVUFWNAZW3WR6ATDAMDS\n",
      "File Name: 140789.zip - File ID: 01W2ZTQFW3A23H7LXMNBCLFO7TI4SRO4NX\n",
      "File Name: 141061.zip - File ID: 01W2ZTQFTKRQ67CV5JFRG3BPR47EJC3SDO\n",
      "File Name: 141062.zip - File ID: 01W2ZTQFXNVYJPEH3EXVA2OE7G5GYEUPLG\n",
      "File Name: 141270.zip - File ID: 01W2ZTQFXY7LU7WSTLFZC2G63JWJMFDJIO\n",
      "File Name: 141272.zip - File ID: 01W2ZTQFRSSQ5DLPUKOVA3BLA4DGD7UBKM\n",
      "File Name: 141507.zip - File ID: 01W2ZTQFXNN4X27NQ7RNEIM73VJIYVKCA3\n",
      "File Name: 141699.zip - File ID: 01W2ZTQFXKSQJMQQOUZZHZRKCQQUWGEVEY\n",
      "File Name: 142062.zip - File ID: 01W2ZTQFRDVJEST2WTOBEYQK4N5FOZCCL3\n",
      "File Name: 142199.zip - File ID: 01W2ZTQFSHRKZOUZ2ABZDJ4K33KBOYBXVD\n",
      "File Name: 142273.zip - File ID: 01W2ZTQFRI3TPCRA5HXRCZWRCJNN6P43R4\n",
      "File Name: 142993.zip - File ID: 01W2ZTQFQXPS2GSTCL3FFZW2PGUY5BWANA\n",
      "File Name: 143100.zip - File ID: 01W2ZTQFTTFD4GLDE7T5A2772WJDDRSL2I\n",
      "File Name: 143148.zip - File ID: 01W2ZTQFXHNHU7YETMVNEYZYTHMM6ALY4D\n",
      "File Name: 143253.zip - File ID: 01W2ZTQFT7LGDXUE2G2ZELNETYP6Q5KUCD\n",
      "File Name: 143442.zip - File ID: 01W2ZTQFVIBBVV4NFU6BB3CFKNSN3ZMQVT\n"
     ]
    }
   ],
   "source": [
    "load_dotenv()\n",
    "\n",
    "# Azure application client info\n",
    "# client_id = 'd6912246-965f-4255-ba2b-fc593915f837'\n",
    "client_id = os.getenv('CLIENT_ID')\n",
    "client_secret = os.getenv('CLIENT_SECRET')\n",
    "tenant_id = os.getenv('TENANT_ID')\n",
    "# redirect_uri = 'https://login.microsoftonline.com/common/oauth2/nativeclient'\n",
    "\n",
    "# Get access token\n",
    "authority = f'https://login.microsoftonline.com/{tenant_id}'\n",
    "scopes = ['Files.Read', 'User.Read']\n",
    "app = msal.PublicClientApplication(client_id, authority=authority)\n",
    "\n",
    "# Request token\n",
    "result = app.acquire_token_interactive(scopes=scopes)\n",
    "\n",
    "if \"access_token\" in result:\n",
    "    access_token = result[\"access_token\"]\n",
    "    headers = {'Authorization': f'Bearer {access_token}'}\n",
    "\n",
    "# Access \"modeldb-code-analysis/modeldb-zips\"\n",
    "endpoint = 'https://graph.microsoft.com/v1.0/me/drive/root:/modeldb-code-analysis/modeldb-zips:/children'\n",
    "response = requests.get(endpoint, headers=headers)\n",
    "zip_name_id = {}\n",
    "if response.status_code == 200:\n",
    "    files_in_subfolder = response.json().get('value', [])\n",
    "    for file in files_in_subfolder:\n",
    "        zip_name_id[file['name']] = file['id']\n",
    "        print(f\"File Name: {file['name']} - File ID: {file['id']}\")\n",
    "else:\n",
    "    print(f\"Error: {response.status_code} - {response.text}\")\n",
    "\n",
    "    \n",
    "#     endpoint = 'https://graph.microsoft.com/v1.0/me/drive/root/children'\n",
    "#     response = requests.get(endpoint, headers=headers)\n",
    "\n",
    "#     if response.status_code == 200:\n",
    "#         files = response.json().get('value', [])\n",
    "#         folder_id = None\n",
    "#         for file in files:\n",
    "#             if file['name'] == 'modeldb-code-analysis' and file.get('folder'):\n",
    "#                 folder_id = file['id']\n",
    "#                 print(f\"Found folder 'modeldb-code-analysis' with ID: {folder_id}\")\n",
    "#                 break\n",
    "#         if not folder_id:\n",
    "#             print(\"Folder 'modeldb-code-analysis' not found.\")\n",
    "# else:\n",
    "#     print(\"Failed to obtain access token\")"
   ]
  },
  {
   "cell_type": "code",
   "execution_count": 32,
   "metadata": {},
   "outputs": [
    {
     "data": {
      "text/plain": [
       "200"
      ]
     },
     "execution_count": 32,
     "metadata": {},
     "output_type": "execute_result"
    }
   ],
   "source": [
    "len(zip_name_id)"
   ]
  },
  {
   "cell_type": "code",
   "execution_count": null,
   "metadata": {
    "colab": {
     "base_uri": "https://localhost:8080/"
    },
    "id": "bgNnJuPWWgoW",
    "outputId": "89f79b2b-6df2-482a-8e26-f397963e653e"
   },
   "outputs": [
    {
     "name": "stdout",
     "output_type": "stream",
     "text": [
      "completed\n"
     ]
    }
   ],
   "source": [
    "zip_file_path = '/content/drive/MyDrive/group capstone/modeldb_model/100603.zip'\n",
    "extract_folder = '/content/drive/MyDrive/group capstone/modeldb_model/100603/'\n",
    "os.makedirs(extract_folder, exist_ok=True)\n",
    "\n",
    "with zipfile.ZipFile(zip_file_path, 'r') as zip_ref:\n",
    "    zip_ref.extractall(extract_folder)\n",
    "\n",
    "print(\"completed\")\n"
   ]
  },
  {
   "cell_type": "code",
   "execution_count": null,
   "metadata": {
    "colab": {
     "base_uri": "https://localhost:8080/"
    },
    "id": "pvqKyjjxdKSf",
    "outputId": "001a829a-fe52-4ebc-b07b-031c8a026f3e"
   },
   "outputs": [
    {
     "name": "stdout",
     "output_type": "stream",
     "text": [
      "Files matching the rules have been saved to /content/drive/My Drive/group capstone/modeldb_model/match_file/100603_matched_files.txt\n"
     ]
    }
   ],
   "source": [
    "# Set the path for the JSON file and the output file\n",
    "json_file_path = '/content/drive/My Drive/group capstone/manual_classifier_rules.json'\n",
    "output_file_path = '/content/drive/My Drive/group capstone/modeldb_model/match_file/100603_matched_files.txt'\n",
    "\n",
    "# Load rules from the JSON file\n",
    "with open(json_file_path, 'r', encoding='utf-8') as json_file:\n",
    "    rules = json.load(json_file)\n",
    "\n",
    "# Convert rules to a list of regex patterns and corresponding replacements\n",
    "pattern_mapping = {re.compile(pattern): replacement for pattern, replacement in rules.items()}\n",
    "\n",
    "matched_files = []\n",
    "# Set the list of acceptable file extensions\n",
    "acceptable_extensions = ('.py', '.cpp', '.java', '.m', '.txt','.h','.data','.html','.c')#不确定是否要限制文件类型\n",
    "\n",
    "# Traverse subfolders in the extract_folder directory\n",
    "for subfolder in os.listdir(extract_folder):\n",
    "    subfolder_path = os.path.join(extract_folder, subfolder)\n",
    "    if os.path.isdir(subfolder_path):  # Check if it's a directory\n",
    "        for root, _, files in os.walk(subfolder_path):\n",
    "            for file in files:\n",
    "                file_path = os.path.join(root, file)\n",
    "                # Check if the file extension is acceptable\n",
    "                if not file.lower().endswith(acceptable_extensions):\n",
    "                    continue  # Skip the file if the extension is not acceptable\n",
    "\n",
    "                # Open the file and check its content against the rules\n",
    "                with open(file_path, 'r', encoding='utf-8', errors='ignore') as f:\n",
    "                    content = f.read()\n",
    "                    for pattern, replacement_list in pattern_mapping.items():\n",
    "                        if pattern.search(content):  # If any pattern matches the file content\n",
    "                            matched_files.append(file_path)\n",
    "                            break  # Stop checking this file if one rule is matched\n",
    "\n",
    "\n",
    "# Write matched file contents to a new text file\n",
    "with open(output_file_path, 'w', encoding='utf-8') as output_file:\n",
    "    for file_path in matched_files:\n",
    "        output_file.write(f'=== {file_path} ===\\n')  # Write the file path\n",
    "        with open(file_path, 'r', encoding='utf-8', errors='ignore') as f:\n",
    "            output_file.write(f.read())  # Write the file content\n",
    "            output_file.write('\\n\\n')  # Add a newline between files\n",
    "\n",
    "print(f\"Files matching the rules have been saved to {output_file_path}\")\n"
   ]
  },
  {
   "cell_type": "code",
   "execution_count": null,
   "metadata": {
    "colab": {
     "base_uri": "https://localhost:8080/"
    },
    "id": "C8jimD5CM00o",
    "outputId": "01eb2169-ed32-40d8-fb47-a37bbf07c930"
   },
   "outputs": [
    {
     "name": "stdout",
     "output_type": "stream",
     "text": [
      "modeldb-model  modeldb-zips\n"
     ]
    }
   ],
   "source": [
    "! ls '/content/drive/MyDrive/group capstone/modeldb_model/modeldb-zips'"
   ]
  },
  {
   "cell_type": "code",
   "execution_count": null,
   "metadata": {
    "id": "1PIotW2CL5Qv"
   },
   "outputs": [],
   "source": [
    "def process_model(model_name):\n",
    "    # Set the path for the zip file and extraction folder based on the model name\n",
    "    zip_file_path = f'/content/drive/MyDrive/group capstone/modeldb_model/modeldb-zips/modeldb-zips/{model_name}.zip'\n",
    "    extract_folder = f'/content/drive/MyDrive/group capstone/modeldb_model/modeldb-zips/modeldb-model/{model_name}/'\n",
    "    os.makedirs(extract_folder, exist_ok=True)\n",
    "\n",
    "    # Extract the zip file\n",
    "    with zipfile.ZipFile(zip_file_path, 'r') as zip_ref:\n",
    "        zip_ref.extractall(extract_folder)\n",
    "\n",
    "    print(f\"{model_name} extraction completed\")\n",
    "\n",
    "    # Set the path for the JSON rules file and output file\n",
    "    json_file_path = '/content/drive/My Drive/group capstone/manual_classifier_rules.json'\n",
    "    output_file_path = f'/content/drive/My Drive/group capstone/modeldb_model/match_file/{model_name}_matched_files.txt'\n",
    "\n",
    "    # Load rules from the JSON file\n",
    "    with open(json_file_path, 'r', encoding='utf-8') as json_file:\n",
    "        rules = json.load(json_file)\n",
    "\n",
    "    # Convert rules to a dictionary of regex patterns and replacements\n",
    "    pattern_mapping = {re.compile(pattern): replacement for pattern, replacement in rules.items()}\n",
    "\n",
    "    matched_files = []\n",
    "    # Define acceptable file extensions\n",
    "    acceptable_extensions = ('.py', '.cpp', '.java', '.m', '.txt', '.h', '.data', '.html', '.c')  # Adjust as needed\n",
    "\n",
    "    # Traverse subfolders and files in the extraction folder\n",
    "    for subfolder in os.listdir(extract_folder):\n",
    "        subfolder_path = os.path.join(extract_folder, subfolder)\n",
    "        if os.path.isdir(subfolder_path):  # Check if it's a directory\n",
    "            for root, _, files in os.walk(subfolder_path):\n",
    "                for file in files:\n",
    "                    file_path = os.path.join(root, file)\n",
    "                    # Check if the file extension is acceptable\n",
    "                    if not file.lower().endswith(acceptable_extensions):\n",
    "                        continue  # Skip the file if the extension is not acceptable\n",
    "\n",
    "                    # Open the file and check its content against the rules\n",
    "                    with open(file_path, 'r', encoding='utf-8', errors='ignore') as f:\n",
    "                        content = f.read()\n",
    "                        for pattern, replacement_list in pattern_mapping.items():\n",
    "                            if pattern.search(content):  # If any rule matches the file content\n",
    "                                matched_files.append(file_path)\n",
    "                                break  # Stop checking this file if one rule is matched\n",
    "\n",
    "    # Write matched file contents to a new text file\n",
    "    with open(output_file_path, 'w', encoding='utf-8') as output_file:\n",
    "        for file_path in matched_files:\n",
    "            output_file.write(f'=== {file_path} ===\\n')  # Write the file path\n",
    "            with open(file_path, 'r', encoding='utf-8', errors='ignore') as f:\n",
    "                output_file.write(f.read())  # Write the file content\n",
    "                output_file.write('\\n\\n')  # Add a newline between files\n",
    "\n",
    "    print(f\"Files matching the rules have been saved to {output_file_path}\")\n"
   ]
  },
  {
   "cell_type": "code",
   "execution_count": null,
   "metadata": {
    "colab": {
     "base_uri": "https://localhost:8080/"
    },
    "id": "Pod_Mt1VOQFn",
    "outputId": "60de42e4-d653-49d9-d0ab-295d74a7c6b7"
   },
   "outputs": [
    {
     "name": "stdout",
     "output_type": "stream",
     "text": [
      "93394 extraction completed\n",
      "Files matching the rules have been saved to /content/drive/My Drive/group capstone/modeldb_model/match_file/93394_matched_files.txt\n"
     ]
    }
   ],
   "source": [
    "model_name = '93394'\n",
    "process_model(model_name)"
   ]
  },
  {
   "cell_type": "code",
   "execution_count": null,
   "metadata": {
    "id": "C1Aovv2v_jhD"
   },
   "outputs": [],
   "source": [
    "api_key = os.getenv('API_KEY')\n",
    "organization=os.getenv('ORGANIZATION')\n",
    "output_file_path='/content/drive/My Drive/group capstone/modeldb_model/match_file/93394_matched_files.txt'"
   ]
  },
  {
   "cell_type": "code",
   "execution_count": null,
   "metadata": {
    "colab": {
     "base_uri": "https://localhost:8080/"
    },
    "id": "BnsTFUBo_Ux1",
    "outputId": "ac5d6e90-f274-493e-87d6-89fddf90df53"
   },
   "outputs": [
    {
     "name": "stdout",
     "output_type": "stream",
     "text": [
      "Generated metadata: Metadata:\n",
      "- Author: Quentin Huys\n",
      "- Year: 2006\n",
      "- Title: Fast population coding Neural Computation\n",
      "- Description: Example code for fast population coding with sparse spike trains in conjunction with a 2006 paper by Quentin Huys, Zemel RS, Natarajan R and Dayan P.\n",
      "- License: GNU General Public License\n",
      "- Website: http://www.gatsby.ucl.ac.uk/~qhuys/code.html\n",
      "- Email: qhuys@gatsby.ucl.ac.uk\n",
      "- Files:\n",
      "  - COPYRIGHT.txt\n",
      "  - getinf.m\n",
      "  - getspk.m\n",
      "  - getstim.m\n",
      "  - LICENSE.txt\n",
      "  - main.m\n",
      "  - param.m\n",
      "  - plots.m\n",
      "  - psinf.m\n",
      "  - pspred.m\n",
      "  - README.txt\n",
      "  - setup.m\n"
     ]
    }
   ],
   "source": [
    "with open(output_file_path, 'r', encoding='utf-8') as file:\n",
    "    file_content = file.read()\n",
    "client = OpenAI(\n",
    "    api_key=api_key,\n",
    "    organization=organization\n",
    ")\n",
    "\n",
    "\n",
    "chat_completion = client.chat.completions.create(\n",
    "    model=\"gpt-3.5-turbo\",\n",
    "    messages=[\n",
    "        {\n",
    "            \"role\": \"user\",\n",
    "            \"content\": f\"Please analyze the following content and provide some metadata about it:\\n\\n{file_content}\"\n",
    "        }\n",
    "    ],\n",
    ")\n",
    "\n",
    "response_dict = chat_completion.to_dict()\n",
    "metadata = response_dict[\"choices\"][0][\"message\"][\"content\"].strip()\n",
    "print(\"Generated metadata:\", metadata)"
   ]
  }
 ],
 "metadata": {
  "colab": {
   "provenance": []
  },
  "kernelspec": {
   "display_name": "codeanalysis",
   "language": "python",
   "name": "python3"
  },
  "language_info": {
   "codemirror_mode": {
    "name": "ipython",
    "version": 3
   },
   "file_extension": ".py",
   "mimetype": "text/x-python",
   "name": "python",
   "nbconvert_exporter": "python",
   "pygments_lexer": "ipython3",
   "version": "3.10.13"
  }
 },
 "nbformat": 4,
 "nbformat_minor": 0
}
